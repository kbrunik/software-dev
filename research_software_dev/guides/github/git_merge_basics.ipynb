{
  "cells": [
    {
      "cell_type": "markdown",
      "metadata": {
        "id": "2wxz2ok2Ew3M"
      },
      "source": [
        "# Git Merging and Merge Conflicts\n",
        "\n",
        "Git is a powerful version control system that allows multiple developers to collaborate on a project. One essential feature of Git is merging, which combines changes from different branches. However, conflicts may arise when Git cannot automatically merge changes. This tutorial will guide you through the process of merging branches and resolving merge conflicts."
      ]
    },
    {
      "cell_type": "markdown",
      "metadata": {
        "id": "AoVT-gwkE8Zo"
      },
      "source": [
        "## Basic Branch Merging\n",
        "When merging your feature branch into the main branch, you may encounter merge conflicts. The standard procedure for merging your feature branch into the main branch involves the following steps:\n",
        "\n",
        "#### Create a Feature Branch\n",
        "Before merging, create a feature branch to work on a specific task:"
      ]
    },
    {
      "cell_type": "code",
      "execution_count": null,
      "metadata": {
        "id": "8mvKuSjVEuF2"
      },
      "outputs": [],
      "source": [
        "git checkout -b feature-branch"
      ]
    },
    {
      "cell_type": "markdown",
      "metadata": {
        "id": "zDZjhxTMFGt7"
      },
      "source": [
        "#### Make Changes\n",
        "\n",
        "Make changes in your feature branch:"
      ]
    },
    {
      "cell_type": "code",
      "execution_count": null,
      "metadata": {
        "id": "GdOngWXTFJuE"
      },
      "outputs": [],
      "source": [
        "# Make changes to files\n",
        "git add .\n",
        "git commit -m \"Implement feature X\""
      ]
    },
    {
      "cell_type": "markdown",
      "metadata": {
        "id": "-Awe90pTFLyf"
      },
      "source": [
        "#### Switch to the Main Branch\n",
        "\n",
        "Switch back to the main branch:"
      ]
    },
    {
      "cell_type": "code",
      "execution_count": null,
      "metadata": {
        "id": "O16jebY7FQNU"
      },
      "outputs": [],
      "source": [
        "git checkout main"
      ]
    },
    {
      "cell_type": "markdown",
      "metadata": {
        "id": "4IYMTVOJFPrR"
      },
      "source": [
        "#### Merge the Feature Branch\n",
        "\n",
        "Merge the feature branch into the main branch:"
      ]
    },
    {
      "cell_type": "code",
      "execution_count": null,
      "metadata": {
        "id": "pQyvYN13LnYC"
      },
      "outputs": [],
      "source": [
        "git merge feature-branch"
      ]
    },
    {
      "cell_type": "markdown",
      "metadata": {
        "id": "kXryCsk7Lp79"
      },
      "source": [
        "## Pulling Upstream Changes into Your Feature Branch\n",
        "Another common way you might encounter merge conflicts is by pulling an upstream branch into your feature branch. Here are the steps to pull the upstream branch into your feature branch while you are continuing to develop the feature.\n",
        "\n",
        "#### Configure Upstream Remote\n",
        "Ensure your local repository is aware of the upstream repository:"
      ]
    },
    {
      "cell_type": "code",
      "execution_count": null,
      "metadata": {
        "id": "rV-_qhYQNOt7"
      },
      "outputs": [],
      "source": [
        "git remote add upstream <upstream-repo-url>"
      ]
    },
    {
      "cell_type": "markdown",
      "metadata": {
        "id": "VzHZSWQYNRI7"
      },
      "source": [
        "#### Fetch Upstream Changes\n",
        "Fetch the latest changes from the upstream repository:"
      ]
    },
    {
      "cell_type": "code",
      "execution_count": null,
      "metadata": {
        "id": "TrfVBso_NQ0E"
      },
      "outputs": [],
      "source": [
        "git fetch upstream"
      ]
    },
    {
      "cell_type": "markdown",
      "metadata": {
        "id": "Fa9qbyApNVRL"
      },
      "source": [
        "#### Update Your Feature Branch\n",
        "Switch to your feature branch and merge the upstream changes from the main branch:"
      ]
    },
    {
      "cell_type": "code",
      "execution_count": null,
      "metadata": {
        "id": "dGAgeIBdNff3"
      },
      "outputs": [],
      "source": [
        "git checkout feature-branch\n",
        "git merge upstream/main"
      ]
    },
    {
      "cell_type": "markdown",
      "metadata": {
        "id": "2yTD2PAwN1Lz"
      },
      "source": [
        "# Merge Conflicts\n",
        "\n",
        "#### Conflicts During Merging\n",
        "If Git detects conflicts during a merge, it stops and marks the conflicted files. To see which files have conflicts run:"
      ]
    },
    {
      "cell_type": "code",
      "execution_count": null,
      "metadata": {
        "id": "9v-SxupnODg1"
      },
      "outputs": [],
      "source": [
        "git status"
      ]
    },
    {
      "cell_type": "markdown",
      "metadata": {
        "id": "Ygd4HASyOC0A"
      },
      "source": [
        "Conflicted files will be listed under the \"Unmerged paths\" section.\n",
        "\n",
        "Open the conflicted files in a text editor, and look for the conflict markers (<<<<<<<, =======, and >>>>>>>). These markers show the conflicting sections of code.\n"
      ]
    },
    {
      "cell_type": "code",
      "execution_count": null,
      "metadata": {
        "id": "SX40YgQoOUO4"
      },
      "outputs": [],
      "source": [
        "<<<<<<< HEAD\n",
        "# Changes from the current branch (main)\n",
        "=======\n",
        "# Changes from the incoming branch (feature-branch)\n",
        ">>>>>>> feature-branch"
      ]
    },
    {
      "cell_type": "markdown",
      "metadata": {
        "id": "l5akI3NTO1c2"
      },
      "source": [
        "Once you've identified the conflicted files, you can proceed to manually resolve the conflicts by editing the files, removing the markers, and selecting the desired changes from both branches."
      ]
    },
    {
      "cell_type": "markdown",
      "metadata": {
        "id": "InMXR3VNQk2E"
      },
      "source": [
        "After resolving, add the file and complete the merge:"
      ]
    },
    {
      "cell_type": "code",
      "execution_count": null,
      "metadata": {
        "id": "G5ikWfIbQxf-"
      },
      "outputs": [],
      "source": [
        "# Open conflicted file\n",
        "# Resolve conflicts manually\n",
        "git add conflicted-file.txt\n",
        "git merge --continue\n"
      ]
    },
    {
      "cell_type": "markdown",
      "metadata": {
        "id": "sLtdyxqWQ1w5"
      },
      "source": [
        "After resolving all the conflicts, push the changes to the remote repository:"
      ]
    },
    {
      "cell_type": "code",
      "execution_count": null,
      "metadata": {
        "id": "V6ZcxjX6RBKj"
      },
      "outputs": [],
      "source": [
        "git push feature-branch"
      ]
    },
    {
      "cell_type": "markdown",
      "metadata": {
        "id": "wvx4_nyxRcoA"
      },
      "source": [
        "Pushing the changes ensures that the remote repository is updated with your resolved conflicts and merged changes."
      ]
    },
    {
      "cell_type": "markdown",
      "metadata": {
        "id": "3FrnI8VSRibq"
      },
      "source": [
        "## Additional Tips\n",
        "1. **Keep Your Feature Branch Updated**: Frequently `pull` or `fetch` upstream changes to keep your feature branch up-to-date.\n",
        "2. **Communication with Upstream Maintainers**: If you face persistent conflicts, communicate with upstream maintainers to align on changes and resolve conflicts collaboratively.\n",
        "3. **Use a Visual Tool**: Visual tools like `git difftool` or GUI applications can help visualize changes and resolve conflicts interactively.\n",
        "4. **Preview Changes**: Use tools like `git diff` or visual diff tools to preview the changes before merging. This can help you understand potential conflicts in advance."
      ]
    },
    {
      "cell_type": "code",
      "execution_count": null,
      "metadata": {
        "id": "cfxWh6FjSTCF"
      },
      "outputs": [],
      "source": [
        "git diff <source-branch> <target-branch>"
      ]
    },
    {
      "cell_type": "markdown",
      "metadata": {
        "id": "mzS9qUHCSVsS"
      },
      "source": [
        "5. **Isolate Feature Branches**:\n",
        "Work on isolated feature branches to minimize the impact of conflicts. Smaller, focused branches are easier to manage and have fewer chances of conflicting with other changes.\n",
        "\n",
        "6. **Regular Communication**:\n",
        "Communicate with your team about ongoing changes. If multiple team members are working on the same files, conflicts may arise. Open communication helps in coordinating efforts."
      ]
    },
    {
      "cell_type": "markdown",
      "metadata": {
        "id": "uhguDMViSjjV"
      },
      "source": [
        "## Conclusion\n",
        "By incorporating pulling upstream changes into your feature branch and handling conflicts, you ensure that your work remains synchronized with the main project. Remember that merge conflicts are a natural part of collaborative development, and efficient conflict resolution practices contribute to a smoother development workflow. Regularly update your feature branch, resolve conflicts promptly, and communicate effectively with upstream maintainers to foster a smooth collaborative development environment. Happy coding!\n"
      ]
    }
  ],
  "metadata": {
    "colab": {
      "provenance": []
    },
    "kernelspec": {
      "display_name": "Python 3",
      "name": "python3"
    },
    "language_info": {
      "name": "python"
    }
  },
  "nbformat": 4,
  "nbformat_minor": 0
}
