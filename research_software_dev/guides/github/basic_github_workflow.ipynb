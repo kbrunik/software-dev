{
 "cells": [
  {
   "cell_type": "markdown",
   "metadata": {},
   "source": [
    "# Basic GitHub Workflow: Forking, Cloning, and Adding a Remote Link\n",
    "\n",
    "GitHub is a popular platform for hosting and collaborating on code repositories. This tutorial will guide you through a basic GitHub workflow, including forking a repository, cloning it to your local machine, and adding a remote link for collaboration. This workflow is useful for contributing to open-source projects or collaborating with others on code."
   ]
  },
  {
   "cell_type": "markdown",
   "metadata": {},
   "source": [
    "### Prerequisites\n",
    "\n",
    "Before you get started, make sure you have the following:\n",
    "\n",
    "1. A [GitHub](https://github.com/) account: You need a GitHub account to fork and interact with repositories.\n",
    "\n",
    "2. Git installed: You must have Git installed on your local machine. You can download it from [Git's official website](https://git-scm.com/downloads)."
   ]
  },
  {
   "cell_type": "markdown",
   "metadata": {},
   "source": [
    "## Forking a Repository\n",
    "Forking a repository creates a copy of the repository in your GitHub account, allowing you to work on it without affecting the original repository.\n",
    "\n",
    "1. **Go to the Repository**: Visit the GitHub repository you want to fork. For example, if you're interested in forking the repository `https://github.com/original-user/repo-name`, go to `https://github.com/original-user/repo-name`.\n",
    "\n",
    "2. **Fork the Repository**: Click the \"Fork\" button in the top-right corner of the repository's page. This action will create a copy of the repository in your GitHub account."
   ]
  },
  {
   "cell_type": "markdown",
   "metadata": {},
   "source": [
    "For example:\n",
    "To fork the main HOPP repository to your own Github account.\n",
    "1. Navigate to the main HOPP repo website `https://github.com/NREL/HOPP`\n",
    "2. Click the fork button ![Fork](images/fork_repo.png)\n",
    "3. Uncheck the copy the master branch only\n",
    "4. Name your fork. (It's common to keep the same name as the main repository i.e. `HOPP`)\n",
    "5. Click create fork\n"
   ]
  },
  {
   "cell_type": "markdown",
   "metadata": {},
   "source": [
    "## Cloning a Repository\n",
    "Cloning a repository means copying it from your GitHub account to your local machine for development.\n",
    "\n",
    "1. **Copy the Repository URL**: On the forked repository page in your GitHub account, click the \"Code\" button, and copy the repository URL (usually in HTTPS or SSH format).\n",
    "![Clone](images/clone_repo.png)\n",
    "\n",
    "2. **Open Your Terminal**: Open your terminal/command prompt.\n",
    "\n",
    "3. **Navigate to the Directory**: Navigate to the directory (folder) where you want to store the cloned repository. For example, to clone the repository into a directory called my-project, you can use:\n",
    "    ```\n",
    "    cd /path/to/your/directory\n",
    "    ```\n",
    "    I keep all my repositories in a folder called `github`\n",
    "\n",
    "4. **Clone the Repository**: Use the git clone command to clone the repository. Replace <repository-url> with the URL you copied earlier:\n",
    "    ```\n",
    "    git clone <repository-url>\n",
    "    ```\n",
    "    i.e. `git clone https://github.com/kbrunik/HOPP.git`\n",
    "\n",
    "5. **Change Directory**: Enter the cloned repository directory:\n",
    "    ```\n",
    "    cd repo-name\n",
    "    ```\n",
    "    i.e. `cd HOPP`\n",
    "\n",
    "    \n",
    "Now, you have a local copy of the forked reopository on your machine."
   ]
  },
  {
   "cell_type": "markdown",
   "metadata": {},
   "source": [
    "## Adding a Remote Link\n",
    "\n",
    "To collaborate or keep your local repository in sync with the original repository, you can add a remote link to the original repository.\n",
    "\n",
    "1. **Add a Remote Link**: Use the git remote add command to add a remote link. Give it a name (usually \"upstream\") and provide the URL to the original repository:\n",
    "    ```\n",
    "    git remote add upstream https://github.com/original-user/repo-name.git\n",
    "    ```\n",
    "\n",
    "    For example:\n",
    "    ```\n",
    "    git remote add upstream https://github.com/NREL/HOPP/git\n",
    "    ```\n",
    "2. **Verify the Remote**: To verify that the remote link has been added successfully, you can use:\n",
    "    ```\n",
    "    git remote -v\n",
    "    ```\n",
    "    This command will display both the origin (your forked repository) and upstream (the original repository) URLs.\n",
    "    ![remote](images/remote.png)"
   ]
  },
  {
   "cell_type": "markdown",
   "metadata": {},
   "source": [
    "These actions above are typical things you have to do only once when setting up a repository on your local computer. These next actions are useful for any time you want to contribute to the main repository and a general workflow you can/should follow."
   ]
  },
  {
   "cell_type": "markdown",
   "metadata": {},
   "source": [
    "## Fetching and Creating a New Branch\n",
    "Now, let's fetch the branches from the original repository, create a new branch, and push it to your remote.\n",
    "\n",
    "1. **Fetch Branches**: Fetch the branches from the original repository so your local Git knows about them. Use the following command, replacing <remote-name> with the name you choose (e.g., \"upstream\"):\n",
    "    ```\n",
    "    git fetch <remote-name>\n",
    "    ```\n",
    "    For example:\n",
    "    ```\n",
    "    git fetch upstream\n",
    "    ```\n",
    "    \n",
    "2. **Create a New Branch**: Create a new branch based on one of the branches from the original repository. Use the following command to create a new branch and switch to it, replacing <new-branch-name>, <remote-name>, and <remote-branch-name> as needed:\n",
    "    ```\n",
    "    git checkout -b <new-branch-name> <remote-name>/<remote-branch-name>\n",
    "    ```\n",
    "    For example:\n",
    "    ```\n",
    "    git checkout -b dev/refactor_kb upstream/dev/refactor\n",
    "    ```\n",
    "3. **Push New Branch**: Push the new branch to your remote repository (aka your fork). Use the following command:\n",
    "    ```\n",
    "    git push --set-upstream origin <new-branch-name>\n",
    "    ```\n",
    "    For example:\n",
    "    ```\n",
    "    git push --set-upstream origin dev/refactor_kb\n",
    "    ```\n",
    "\n",
    "\n",
    "**NOTE**: If this is your first time pushing from this computer, you may be prompted to set your username and password for GitHub."
   ]
  },
  {
   "cell_type": "markdown",
   "metadata": {},
   "source": [
    "## Making Changes and Committing\n",
    "Now that you have created a new branch, you can make changes to the code, commit them, and push to your remote as needed.\n",
    "\n",
    "1. **Make Changes to the Code**: Modify the code according to your contribution.\n",
    "\n",
    "2. **Commit and Push**: To commit and push your changes from the command line, follow these steps:\n",
    "    - Add the files you want to commit:\n",
    "        ```\n",
    "        git add <file-name>\n",
    "        ```\n",
    "    - Commit the changes with a descriptive message:\n",
    "        ```\n",
    "        git commt -m \"Type message about the commit\"\n",
    "        ```\n",
    "    - Push the changes to your branch on your fork:\n",
    "        ```\n",
    "        git push\n",
    "        ```\n",
    "    \n",
    "\n"
   ]
  },
  {
   "cell_type": "markdown",
   "metadata": {},
   "source": [
    "## Creating a Pull Request\n",
    "After making your changes and pushing them to your remote repository, you can create a pull request to merge your changes into the original repository.\n",
    "\n",
    "1. **Pull Request**: Visit your forked repository on GitHub and click the \"Pull Request\" button. \n",
    "![PR](images/pull_request.png)\n",
    "\n",
    "2. Ensure that the base repository (the repository you want to merge your changes into) and base branch (the branch in the original repository you want to target) are correctly selected.\n",
    "\n",
    "3. Give your pull request a clear and descriptive title, and provide a detailed comment describing the purpose of your changes.\n",
    "\n",
    "4. Review your changes in the \"Files changed\" tab to ensure you've included all the necessary modifications.\n",
    "\n",
    "5. If your pull request resolves an issue or is related to one, you can reference the issue by typing `#` followed by the issue number (e.g., `#123`) in the comment section. This helps track the relationship between the pull request and the issue.\n",
    "\n",
    "6. If you're ready to submit the pull request, click the \"Create pull request\" button."
   ]
  }
 ],
 "metadata": {
  "language_info": {
   "name": "python"
  },
  "orig_nbformat": 4
 },
 "nbformat": 4,
 "nbformat_minor": 2
}
